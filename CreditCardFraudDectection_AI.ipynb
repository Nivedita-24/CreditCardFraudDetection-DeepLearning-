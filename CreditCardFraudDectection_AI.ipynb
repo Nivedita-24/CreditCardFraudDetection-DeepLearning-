{
  "nbformat": 4,
  "nbformat_minor": 0,
  "metadata": {
    "colab": {
      "name": "CreditCardFraudDectection_AI",
      "provenance": [],
      "collapsed_sections": [],
      "machine_shape": "hm",
      "authorship_tag": "ABX9TyPvMyg7c+AzC9zlhHJnRK5m",
      "include_colab_link": true
    },
    "kernelspec": {
      "name": "python3",
      "display_name": "Python 3"
    },
    "language_info": {
      "name": "python"
    },
    "accelerator": "TPU"
  },
  "cells": [
    {
      "cell_type": "markdown",
      "metadata": {
        "id": "view-in-github",
        "colab_type": "text"
      },
      "source": [
        "<a href=\"https://colab.research.google.com/github/Nivedita-24/Credit-Card-Fraud-Detection/blob/main/CreditCardFraudDectection_AI.ipynb\" target=\"_parent\"><img src=\"https://colab.research.google.com/assets/colab-badge.svg\" alt=\"Open In Colab\"/></a>"
      ]
    },
    {
      "cell_type": "markdown",
      "metadata": {
        "id": "LzVwuehBMMPQ"
      },
      "source": [
        "# Detecting Credit Card Fraud using Tensorflow\n"
      ]
    },
    {
      "cell_type": "markdown",
      "metadata": {
        "id": "qZ8IyrHoMemd"
      },
      "source": [
        "## Importing Libraries"
      ]
    },
    {
      "cell_type": "code",
      "metadata": {
        "colab": {
          "base_uri": "https://localhost:8080/"
        },
        "id": "_gBVK5ugMaB7",
        "outputId": "b5f92e76-10ad-486f-837f-1821a8d984d3"
      },
      "source": [
        "import numpy as np\n",
        "import matplotlib.pyplot as plt\n",
        "import pandas as pd\n",
        "import tensorflow as tf\n",
        "import sklearn.model_selection as model_selection\n",
        "from sklearn.preprocessing import StandardScaler\n",
        "from imblearn.over_sampling import SMOTE"
      ],
      "execution_count": 1,
      "outputs": [
        {
          "output_type": "stream",
          "name": "stderr",
          "text": [
            "/usr/local/lib/python3.7/dist-packages/sklearn/externals/six.py:31: FutureWarning: The module is deprecated in version 0.21 and will be removed in version 0.23 since we've dropped support for Python 2.7. Please rely on the official version of six (https://pypi.org/project/six/).\n",
            "  \"(https://pypi.org/project/six/).\", FutureWarning)\n",
            "/usr/local/lib/python3.7/dist-packages/sklearn/utils/deprecation.py:144: FutureWarning: The sklearn.neighbors.base module is  deprecated in version 0.22 and will be removed in version 0.24. The corresponding classes / functions should instead be imported from sklearn.neighbors. Anything that cannot be imported from sklearn.neighbors is now part of the private API.\n",
            "  warnings.warn(message, FutureWarning)\n"
          ]
        }
      ]
    },
    {
      "cell_type": "markdown",
      "metadata": {
        "id": "ROaNyIByQaCj"
      },
      "source": [
        "##Importing the Dataset"
      ]
    },
    {
      "cell_type": "code",
      "metadata": {
        "colab": {
          "base_uri": "https://localhost:8080/"
        },
        "id": "NcvvV8USQUGT",
        "outputId": "7aa56397-15e6-40f6-a635-abcf0556d5cb"
      },
      "source": [
        "from google.colab import drive\n",
        "drive.mount(\"/content/drive\", force_remount=True)"
      ],
      "execution_count": 2,
      "outputs": [
        {
          "output_type": "stream",
          "name": "stdout",
          "text": [
            "Mounted at /content/drive\n"
          ]
        }
      ]
    },
    {
      "cell_type": "code",
      "metadata": {
        "colab": {
          "base_uri": "https://localhost:8080/"
        },
        "id": "qzXgihhqQmDb",
        "outputId": "cea6c9b0-54ac-4695-b066-91d80f225a9a"
      },
      "source": [
        "%cd /content/drive/My Drive/Colab Notebooks/"
      ],
      "execution_count": 3,
      "outputs": [
        {
          "output_type": "stream",
          "name": "stdout",
          "text": [
            "/content/drive/My Drive/Colab Notebooks\n"
          ]
        }
      ]
    },
    {
      "cell_type": "code",
      "metadata": {
        "id": "vFywbdw5Qmtf"
      },
      "source": [
        "CreditCard = pd.read_csv(\"/content/drive/My Drive/Colab Notebooks/CreditCardFraud/creditcard.csv\")"
      ],
      "execution_count": 4,
      "outputs": []
    },
    {
      "cell_type": "code",
      "metadata": {
        "colab": {
          "base_uri": "https://localhost:8080/",
          "height": 258
        },
        "id": "VDL-i8zYSN08",
        "outputId": "cf446157-6c63-4996-8bf6-ca39e9da6fb0"
      },
      "source": [
        "print(\"Total no. of records in the dataset are\", CreditCard.shape[0])\n",
        "print(\"Total features in the dataset are\", CreditCard.shape[1])\n",
        "CreditCard.head()"
      ],
      "execution_count": 5,
      "outputs": [
        {
          "output_type": "stream",
          "name": "stdout",
          "text": [
            "Total no. of records in the dataset are 284807\n",
            "Total features in the dataset are 31\n"
          ]
        },
        {
          "output_type": "execute_result",
          "data": {
            "text/html": [
              "<div>\n",
              "<style scoped>\n",
              "    .dataframe tbody tr th:only-of-type {\n",
              "        vertical-align: middle;\n",
              "    }\n",
              "\n",
              "    .dataframe tbody tr th {\n",
              "        vertical-align: top;\n",
              "    }\n",
              "\n",
              "    .dataframe thead th {\n",
              "        text-align: right;\n",
              "    }\n",
              "</style>\n",
              "<table border=\"1\" class=\"dataframe\">\n",
              "  <thead>\n",
              "    <tr style=\"text-align: right;\">\n",
              "      <th></th>\n",
              "      <th>Time</th>\n",
              "      <th>V1</th>\n",
              "      <th>V2</th>\n",
              "      <th>V3</th>\n",
              "      <th>V4</th>\n",
              "      <th>V5</th>\n",
              "      <th>V6</th>\n",
              "      <th>V7</th>\n",
              "      <th>V8</th>\n",
              "      <th>V9</th>\n",
              "      <th>V10</th>\n",
              "      <th>V11</th>\n",
              "      <th>V12</th>\n",
              "      <th>V13</th>\n",
              "      <th>V14</th>\n",
              "      <th>V15</th>\n",
              "      <th>V16</th>\n",
              "      <th>V17</th>\n",
              "      <th>V18</th>\n",
              "      <th>V19</th>\n",
              "      <th>V20</th>\n",
              "      <th>V21</th>\n",
              "      <th>V22</th>\n",
              "      <th>V23</th>\n",
              "      <th>V24</th>\n",
              "      <th>V25</th>\n",
              "      <th>V26</th>\n",
              "      <th>V27</th>\n",
              "      <th>V28</th>\n",
              "      <th>Amount</th>\n",
              "      <th>Class</th>\n",
              "    </tr>\n",
              "  </thead>\n",
              "  <tbody>\n",
              "    <tr>\n",
              "      <th>0</th>\n",
              "      <td>0.0</td>\n",
              "      <td>-1.359807</td>\n",
              "      <td>-0.072781</td>\n",
              "      <td>2.536347</td>\n",
              "      <td>1.378155</td>\n",
              "      <td>-0.338321</td>\n",
              "      <td>0.462388</td>\n",
              "      <td>0.239599</td>\n",
              "      <td>0.098698</td>\n",
              "      <td>0.363787</td>\n",
              "      <td>0.090794</td>\n",
              "      <td>-0.551600</td>\n",
              "      <td>-0.617801</td>\n",
              "      <td>-0.991390</td>\n",
              "      <td>-0.311169</td>\n",
              "      <td>1.468177</td>\n",
              "      <td>-0.470401</td>\n",
              "      <td>0.207971</td>\n",
              "      <td>0.025791</td>\n",
              "      <td>0.403993</td>\n",
              "      <td>0.251412</td>\n",
              "      <td>-0.018307</td>\n",
              "      <td>0.277838</td>\n",
              "      <td>-0.110474</td>\n",
              "      <td>0.066928</td>\n",
              "      <td>0.128539</td>\n",
              "      <td>-0.189115</td>\n",
              "      <td>0.133558</td>\n",
              "      <td>-0.021053</td>\n",
              "      <td>149.62</td>\n",
              "      <td>'0'</td>\n",
              "    </tr>\n",
              "    <tr>\n",
              "      <th>1</th>\n",
              "      <td>0.0</td>\n",
              "      <td>1.191857</td>\n",
              "      <td>0.266151</td>\n",
              "      <td>0.166480</td>\n",
              "      <td>0.448154</td>\n",
              "      <td>0.060018</td>\n",
              "      <td>-0.082361</td>\n",
              "      <td>-0.078803</td>\n",
              "      <td>0.085102</td>\n",
              "      <td>-0.255425</td>\n",
              "      <td>-0.166974</td>\n",
              "      <td>1.612727</td>\n",
              "      <td>1.065235</td>\n",
              "      <td>0.489095</td>\n",
              "      <td>-0.143772</td>\n",
              "      <td>0.635558</td>\n",
              "      <td>0.463917</td>\n",
              "      <td>-0.114805</td>\n",
              "      <td>-0.183361</td>\n",
              "      <td>-0.145783</td>\n",
              "      <td>-0.069083</td>\n",
              "      <td>-0.225775</td>\n",
              "      <td>-0.638672</td>\n",
              "      <td>0.101288</td>\n",
              "      <td>-0.339846</td>\n",
              "      <td>0.167170</td>\n",
              "      <td>0.125895</td>\n",
              "      <td>-0.008983</td>\n",
              "      <td>0.014724</td>\n",
              "      <td>2.69</td>\n",
              "      <td>'0'</td>\n",
              "    </tr>\n",
              "    <tr>\n",
              "      <th>2</th>\n",
              "      <td>1.0</td>\n",
              "      <td>-1.358354</td>\n",
              "      <td>-1.340163</td>\n",
              "      <td>1.773209</td>\n",
              "      <td>0.379780</td>\n",
              "      <td>-0.503198</td>\n",
              "      <td>1.800499</td>\n",
              "      <td>0.791461</td>\n",
              "      <td>0.247676</td>\n",
              "      <td>-1.514654</td>\n",
              "      <td>0.207643</td>\n",
              "      <td>0.624501</td>\n",
              "      <td>0.066084</td>\n",
              "      <td>0.717293</td>\n",
              "      <td>-0.165946</td>\n",
              "      <td>2.345865</td>\n",
              "      <td>-2.890083</td>\n",
              "      <td>1.109969</td>\n",
              "      <td>-0.121359</td>\n",
              "      <td>-2.261857</td>\n",
              "      <td>0.524980</td>\n",
              "      <td>0.247998</td>\n",
              "      <td>0.771679</td>\n",
              "      <td>0.909412</td>\n",
              "      <td>-0.689281</td>\n",
              "      <td>-0.327642</td>\n",
              "      <td>-0.139097</td>\n",
              "      <td>-0.055353</td>\n",
              "      <td>-0.059752</td>\n",
              "      <td>378.66</td>\n",
              "      <td>'0'</td>\n",
              "    </tr>\n",
              "    <tr>\n",
              "      <th>3</th>\n",
              "      <td>1.0</td>\n",
              "      <td>-0.966272</td>\n",
              "      <td>-0.185226</td>\n",
              "      <td>1.792993</td>\n",
              "      <td>-0.863291</td>\n",
              "      <td>-0.010309</td>\n",
              "      <td>1.247203</td>\n",
              "      <td>0.237609</td>\n",
              "      <td>0.377436</td>\n",
              "      <td>-1.387024</td>\n",
              "      <td>-0.054952</td>\n",
              "      <td>-0.226487</td>\n",
              "      <td>0.178228</td>\n",
              "      <td>0.507757</td>\n",
              "      <td>-0.287924</td>\n",
              "      <td>-0.631418</td>\n",
              "      <td>-1.059647</td>\n",
              "      <td>-0.684093</td>\n",
              "      <td>1.965775</td>\n",
              "      <td>-1.232622</td>\n",
              "      <td>-0.208038</td>\n",
              "      <td>-0.108300</td>\n",
              "      <td>0.005274</td>\n",
              "      <td>-0.190321</td>\n",
              "      <td>-1.175575</td>\n",
              "      <td>0.647376</td>\n",
              "      <td>-0.221929</td>\n",
              "      <td>0.062723</td>\n",
              "      <td>0.061458</td>\n",
              "      <td>123.50</td>\n",
              "      <td>'0'</td>\n",
              "    </tr>\n",
              "    <tr>\n",
              "      <th>4</th>\n",
              "      <td>2.0</td>\n",
              "      <td>-1.158233</td>\n",
              "      <td>0.877737</td>\n",
              "      <td>1.548718</td>\n",
              "      <td>0.403034</td>\n",
              "      <td>-0.407193</td>\n",
              "      <td>0.095921</td>\n",
              "      <td>0.592941</td>\n",
              "      <td>-0.270533</td>\n",
              "      <td>0.817739</td>\n",
              "      <td>0.753074</td>\n",
              "      <td>-0.822843</td>\n",
              "      <td>0.538196</td>\n",
              "      <td>1.345852</td>\n",
              "      <td>-1.119670</td>\n",
              "      <td>0.175121</td>\n",
              "      <td>-0.451449</td>\n",
              "      <td>-0.237033</td>\n",
              "      <td>-0.038195</td>\n",
              "      <td>0.803487</td>\n",
              "      <td>0.408542</td>\n",
              "      <td>-0.009431</td>\n",
              "      <td>0.798278</td>\n",
              "      <td>-0.137458</td>\n",
              "      <td>0.141267</td>\n",
              "      <td>-0.206010</td>\n",
              "      <td>0.502292</td>\n",
              "      <td>0.219422</td>\n",
              "      <td>0.215153</td>\n",
              "      <td>69.99</td>\n",
              "      <td>'0'</td>\n",
              "    </tr>\n",
              "  </tbody>\n",
              "</table>\n",
              "</div>"
            ],
            "text/plain": [
              "   Time        V1        V2        V3  ...       V27       V28  Amount  Class\n",
              "0   0.0 -1.359807 -0.072781  2.536347  ...  0.133558 -0.021053  149.62    '0'\n",
              "1   0.0  1.191857  0.266151  0.166480  ... -0.008983  0.014724    2.69    '0'\n",
              "2   1.0 -1.358354 -1.340163  1.773209  ... -0.055353 -0.059752  378.66    '0'\n",
              "3   1.0 -0.966272 -0.185226  1.792993  ...  0.062723  0.061458  123.50    '0'\n",
              "4   2.0 -1.158233  0.877737  1.548718  ...  0.219422  0.215153   69.99    '0'\n",
              "\n",
              "[5 rows x 31 columns]"
            ]
          },
          "metadata": {},
          "execution_count": 5
        }
      ]
    },
    {
      "cell_type": "code",
      "metadata": {
        "colab": {
          "base_uri": "https://localhost:8080/"
        },
        "id": "Q5eo3tKjSUGX",
        "outputId": "89055dcd-3838-4557-bd44-583fce90033b"
      },
      "source": [
        "## To check missing values in the dataset.\n",
        "CreditCard.isnull().values.any() "
      ],
      "execution_count": 6,
      "outputs": [
        {
          "output_type": "execute_result",
          "data": {
            "text/plain": [
              "False"
            ]
          },
          "metadata": {},
          "execution_count": 6
        }
      ]
    },
    {
      "cell_type": "code",
      "metadata": {
        "colab": {
          "base_uri": "https://localhost:8080/"
        },
        "id": "0jSQzYt3SX5o",
        "outputId": "5cf2c415-2fda-49e3-8fe3-4a0e46bb8ea0"
      },
      "source": [
        "## Rename Class\n",
        "CreditCard.rename(columns ={'Class': \"isFraud\"}, inplace = True)\n",
        "CreditCard = CreditCard.applymap(lambda x: x.replace(\"'\", \"\") if (isinstance(x, str)) else x)\n",
        "CreditCard['isFraud'] = pd.to_numeric(CreditCard['isFraud'])\n",
        "\n",
        "# fraudulent Transactions Percentage\n",
        "fraud_per = CreditCard[CreditCard.isFraud == 1].isFraud.count() / CreditCard.isFraud.count()*100\n",
        "print(\"Percentage of Fraudulent Transactions in the dataset are {:.2f} %\".format(fraud_per))"
      ],
      "execution_count": 7,
      "outputs": [
        {
          "output_type": "stream",
          "name": "stdout",
          "text": [
            "Percentage of Fraudulent Transactions in the dataset are 0.17 %\n"
          ]
        }
      ]
    },
    {
      "cell_type": "markdown",
      "metadata": {
        "id": "KqLgoQ4bTKU9"
      },
      "source": [
        "We got the dataset from Kaggle and it contains two days worth of transactions by European cardholders. Due to confidential nature of the data, a PCA transformation was done on 28 features and we have no information on what those features are. The only features that haven't undergone this transformation and we can identify them are 'Time', 'Amount', and 'Class'.\n",
        "\n",
        "Time represents the seconds elapsed between each transaction and the first transaction in the dataset. 'Amount denotes the amount of transaction anjd 'Class' refers to out target variable with 0 referring to a normal transaction and 1 referring to a fraudulent one.\n",
        "\n",
        "It is important to note here that the target variable's instances are imbalanced. Only 0.17% of transactions are fraudulent.\n"
      ]
    },
    {
      "cell_type": "code",
      "metadata": {
        "colab": {
          "base_uri": "https://localhost:8080/",
          "height": 308
        },
        "id": "wEsboFnuTDsP",
        "outputId": "702699dd-f3ac-453d-ba18-cfb50b0c5a00"
      },
      "source": [
        "## Do fraudulent transactions occur more often during certain time?\n",
        "f, (ax1, ax2) = plt.subplots(2,1, sharex = True)\n",
        "f.suptitle('Time of transaction vs Amount by class')\n",
        "\n",
        "ax1.scatter(CreditCard[CreditCard.isFraud == 1].Time, CreditCard[CreditCard.isFraud == 1].Amount)\n",
        "ax1.set_title('Fraud')\n",
        "\n",
        "ax2.scatter(CreditCard[CreditCard.isFraud == 0].Time, CreditCard[CreditCard.isFraud == 0].Amount)\n",
        "ax2.set_title('Normal')\n",
        "\n",
        "plt.xlabel('Time in Seconds')\n",
        "plt.ylabel('Amount')\n",
        "plt.show()"
      ],
      "execution_count": 8,
      "outputs": [
        {
          "output_type": "display_data",
          "data": {
            "image/png": "[encoded data removed]",
            "text/plain": [
              "<Figure size 432x288 with 2 Axes>"
            ]
          },
          "metadata": {
            "needs_background": "light"
          }
        }
      ]
    },
    {
      "cell_type": "markdown",
      "metadata": {
        "id": "-1QhtN4TV45J"
      },
      "source": [
        "Doesn't seem like the time of transaction really matters."
      ]
    },
    {
      "cell_type": "markdown",
      "metadata": {
        "id": "eDgW2BuWWH3Z"
      },
      "source": [
        "##Data PreProcessing"
      ]
    },
    {
      "cell_type": "code",
      "metadata": {
        "id": "xne5XrfuWJuD"
      },
      "source": [
        "## Defining x and y\n",
        "X = CreditCard.iloc[:,:-1].values\n",
        "y = CreditCard.iloc[:,-1].values"
      ],
      "execution_count": 9,
      "outputs": []
    },
    {
      "cell_type": "code",
      "metadata": {
        "colab": {
          "base_uri": "https://localhost:8080/"
        },
        "id": "9gEf8jiWWNAv",
        "outputId": "a4e92e2a-d71a-4eb5-e7d7-3b3fd24ad4a1"
      },
      "source": [
        "## Defining training and tesing set\n",
        "## Train-Test split\n",
        "\n",
        "from sklearn.model_selection import train_test_split\n",
        " \n",
        "# split into 70:30 ration\n",
        "X_train, X_test, y_train, y_test = train_test_split(X, y, test_size = 0.2, random_state = 0)\n",
        " \n",
        "# describes info about train and test set\n",
        "print(\"Number transactions X_train dataset: \", X_train.shape)\n",
        "print(\"Number transactions y_train dataset: \", y_train.shape)\n",
        "print(\"Number transactions X_test dataset: \", X_test.shape)\n",
        "print(\"Number transactions y_test dataset: \", y_test.shape)"
      ],
      "execution_count": 10,
      "outputs": [
        {
          "output_type": "stream",
          "name": "stdout",
          "text": [
            "Number transactions X_train dataset:  (227845, 30)\n",
            "Number transactions y_train dataset:  (227845,)\n",
            "Number transactions X_test dataset:  (56962, 30)\n",
            "Number transactions y_test dataset:  (56962,)\n"
          ]
        }
      ]
    },
    {
      "cell_type": "code",
      "metadata": {
        "id": "dBAWG6rEXQws"
      },
      "source": [
        "## Standardising the dataset as this would speedup the training process\n",
        "\n",
        "## Standardization\n",
        "scaler = StandardScaler()\n",
        "X_train = scaler.fit_transform(X_train)\n",
        "X_test = scaler.fit_transform(X_test)"
      ],
      "execution_count": 11,
      "outputs": []
    },
    {
      "cell_type": "markdown",
      "metadata": {
        "id": "GV47NvZpXQBt"
      },
      "source": [
        "As mentioned previously, this dataset is highly imbalanced. We'll address this issue using Synthetic Minority Oversampling Technique (SMOTE). This technique creates artificial minority class samples by replicating them. In this case it will create synthetic fraud instances and so corrects the imbalance in our dataset."
      ]
    },
    {
      "cell_type": "code",
      "metadata": {
        "colab": {
          "base_uri": "https://localhost:8080/"
        },
        "id": "9BvorQ_7XhKK",
        "outputId": "f27d028a-ee47-47b3-cf2f-6a18c72a8f77"
      },
      "source": [
        "## SMOTE\n",
        "from imblearn.over_sampling import SMOTE\n",
        "sm = SMOTE(random_state = 2)\n",
        "X_train_res, y_train_res = sm.fit_sample(X_train, y_train.ravel())\n",
        " \n",
        "print('After OverSampling, the shape of train_X: {}'.format(X_train_res.shape))\n",
        "print('After OverSampling, the shape of train_y: {} \\n'.format(y_train_res.shape))\n",
        " \n",
        "print(\"After OverSampling, counts of label '1': {}\".format(sum(y_train_res == 1)))\n",
        "print(\"After OverSampling, counts of label '0': {}\".format(sum(y_train_res == 0)))"
      ],
      "execution_count": 12,
      "outputs": [
        {
          "output_type": "stream",
          "name": "stderr",
          "text": [
            "/usr/local/lib/python3.7/dist-packages/sklearn/utils/deprecation.py:87: FutureWarning: Function safe_indexing is deprecated; safe_indexing is deprecated in version 0.22 and will be removed in version 0.24.\n",
            "  warnings.warn(msg, category=FutureWarning)\n"
          ]
        },
        {
          "output_type": "stream",
          "name": "stdout",
          "text": [
            "After OverSampling, the shape of train_X: (454908, 30)\n",
            "After OverSampling, the shape of train_y: (454908,) \n",
            "\n",
            "After OverSampling, counts of label '1': 227454\n",
            "After OverSampling, counts of label '0': 227454\n"
          ]
        }
      ]
    },
    {
      "cell_type": "markdown",
      "metadata": {
        "id": "iydAdcBMQSvB"
      },
      "source": [
        "##Building the ANN"
      ]
    },
    {
      "cell_type": "markdown",
      "metadata": {
        "id": "4cV6-KH_QakJ"
      },
      "source": [
        "###Initializing the ANN"
      ]
    },
    {
      "cell_type": "code",
      "metadata": {
        "id": "Kz8cwCU4N2Xd"
      },
      "source": [
        "ann = tf.keras.models.Sequential()"
      ],
      "execution_count": 13,
      "outputs": []
    },
    {
      "cell_type": "markdown",
      "metadata": {
        "id": "rxWtRyEiRMJI"
      },
      "source": [
        "###Adding the input layer and first hidden layer"
      ]
    },
    {
      "cell_type": "code",
      "metadata": {
        "id": "B8BvrIPlRQMa"
      },
      "source": [
        "ann.add(tf.keras.layers.Dense(units = 512, activation = 'relu'))"
      ],
      "execution_count": 14,
      "outputs": []
    },
    {
      "cell_type": "markdown",
      "metadata": {
        "id": "rY5fEs5YSdrb"
      },
      "source": [
        "###Adding the second hidden layer"
      ]
    },
    {
      "cell_type": "code",
      "metadata": {
        "id": "Co_X-GqTSg9s"
      },
      "source": [
        "ann.add(tf.keras.layers.Dense(units = 512, activation = 'relu'))"
      ],
      "execution_count": 15,
      "outputs": []
    },
    {
      "cell_type": "markdown",
      "metadata": {
        "id": "bHz8KEx7aAQM"
      },
      "source": [
        "###Adding the third hidden layer"
      ]
    },
    {
      "cell_type": "code",
      "metadata": {
        "id": "ILEhoCcYaEKp"
      },
      "source": [
        "ann.add(tf.keras.layers.Dense(units = 128, activation = 'relu'))"
      ],
      "execution_count": 16,
      "outputs": []
    },
    {
      "cell_type": "markdown",
      "metadata": {
        "id": "HYo9JdhWaEer"
      },
      "source": [
        "###Adding the fouth hidden layer"
      ]
    },
    {
      "cell_type": "code",
      "metadata": {
        "id": "iX8QRypzaHc0"
      },
      "source": [
        "ann.add(tf.keras.layers.Dense(units = 64, activation = 'relu'))"
      ],
      "execution_count": 17,
      "outputs": []
    },
    {
      "cell_type": "markdown",
      "metadata": {
        "id": "sd1E4ppGaHsG"
      },
      "source": [
        "###Adding the Fifth Hidden layer"
      ]
    },
    {
      "cell_type": "code",
      "metadata": {
        "id": "EBGELtWmaK-I"
      },
      "source": [
        "ann.add(tf.keras.layers.Dense(units = 32, activation = 'relu'))"
      ],
      "execution_count": 18,
      "outputs": []
    },
    {
      "cell_type": "markdown",
      "metadata": {
        "id": "yQDcGoG0Ub3-"
      },
      "source": [
        "###Adding the Sixth Hidden layer"
      ]
    },
    {
      "cell_type": "code",
      "metadata": {
        "id": "EfeKAN_1UcUu"
      },
      "source": [
        "ann.add(tf.keras.layers.Dense(units = 16, activation = 'relu'))"
      ],
      "execution_count": 19,
      "outputs": []
    },
    {
      "cell_type": "markdown",
      "metadata": {
        "id": "Lcoz5jH-Sobt"
      },
      "source": [
        "###Adding the output layer"
      ]
    },
    {
      "cell_type": "code",
      "metadata": {
        "id": "I-8oCkV4Sq68"
      },
      "source": [
        "ann.add(tf.keras.layers.Dense(units = 1, activation = 'sigmoid'))"
      ],
      "execution_count": 20,
      "outputs": []
    },
    {
      "cell_type": "markdown",
      "metadata": {
        "id": "Z3hZGhBSTXWt"
      },
      "source": [
        "##Training the ANN"
      ]
    },
    {
      "cell_type": "markdown",
      "metadata": {
        "id": "rW-emft5Tav1"
      },
      "source": [
        "###Compiling the ANN"
      ]
    },
    {
      "cell_type": "code",
      "metadata": {
        "id": "5i994n-GTZA9"
      },
      "source": [
        "metrics = [\n",
        "    tf.keras.metrics.Accuracy(name = \"Accuracy\"),\n",
        "    tf.keras.metrics.Precision(name = \"Precision\"),\n",
        "    tf.keras.metrics.Recall(name =\"Recall\")]\n",
        "# hp_learning_rate = hp.Choice('learning_rate', values = [0.005, 0.01, 0.05])       \n",
        "ann.compile(optimizer = tf.keras.optimizers.Adam(learning_rate=0.0002), loss = 'binary_crossentropy',metrics = metrics)"
      ],
      "execution_count": 21,
      "outputs": []
    },
    {
      "cell_type": "markdown",
      "metadata": {
        "id": "g3CAQyGoTsIX"
      },
      "source": [
        "###Training the ANN on the Training set"
      ]
    },
    {
      "cell_type": "code",
      "metadata": {
        "colab": {
          "base_uri": "https://localhost:8080/"
        },
        "id": "FP6jSuisVThQ",
        "outputId": "70cae47c-7cdc-45c2-f6d0-c03fb3bba97a"
      },
      "source": [
        "history = ann.fit(X_train_res, y_train_res, batch_size=32, epochs=100)"
      ],
      "execution_count": 22,
      "outputs": [
        {
          "output_type": "stream",
          "name": "stdout",
          "text": [
            "Epoch 1/100\n",
            "14216/14216 [==============================] - 50s 3ms/step - loss: 0.0128 - Accuracy: 0.1130 - Precision: 0.9963 - Recall: 0.9969\n",
            "Epoch 2/100\n",
            "14216/14216 [==============================] - 51s 4ms/step - loss: 0.0036 - Accuracy: 0.1356 - Precision: 0.9990 - Recall: 0.9995\n",
            "Epoch 3/100\n",
            "14216/14216 [==============================] - 51s 4ms/step - loss: 0.0027 - Accuracy: 0.1538 - Precision: 0.9993 - Recall: 0.9995\n",
            "Epoch 4/100\n",
            "14216/14216 [==============================] - 51s 4ms/step - loss: 0.0020 - Accuracy: 0.2190 - Precision: 0.9995 - Recall: 0.9996\n",
            "Epoch 5/100\n",
            "14216/14216 [==============================] - 51s 4ms/step - loss: 0.0017 - Accuracy: 0.2595 - Precision: 0.9996 - Recall: 0.9997\n",
            "Epoch 6/100\n",
            "14216/14216 [==============================] - 50s 4ms/step - loss: 0.0013 - Accuracy: 0.2935 - Precision: 0.9997 - Recall: 0.9998\n",
            "Epoch 7/100\n",
            "14216/14216 [==============================] - 50s 4ms/step - loss: 0.0014 - Accuracy: 0.3038 - Precision: 0.9997 - Recall: 0.9998\n",
            "Epoch 8/100\n",
            "14216/14216 [==============================] - 50s 4ms/step - loss: 0.0013 - Accuracy: 0.3368 - Precision: 0.9996 - Recall: 0.9998\n",
            "Epoch 9/100\n",
            "14216/14216 [==============================] - 50s 4ms/step - loss: 0.0011 - Accuracy: 0.3639 - Precision: 0.9997 - Recall: 0.9998\n",
            "Epoch 10/100\n",
            "14216/14216 [==============================] - 50s 4ms/step - loss: 0.0012 - Accuracy: 0.3409 - Precision: 0.9997 - Recall: 0.9999\n",
            "Epoch 11/100\n",
            "14216/14216 [==============================] - 51s 4ms/step - loss: 0.0012 - Accuracy: 0.4210 - Precision: 0.9997 - Recall: 0.9998\n",
            "Epoch 12/100\n",
            "14216/14216 [==============================] - 51s 4ms/step - loss: 9.0584e-04 - Accuracy: 0.4254 - Precision: 0.9998 - Recall: 0.9999\n",
            "Epoch 13/100\n",
            "14216/14216 [==============================] - 50s 4ms/step - loss: 9.4691e-04 - Accuracy: 0.4699 - Precision: 0.9998 - Recall: 0.9998\n",
            "Epoch 14/100\n",
            "14216/14216 [==============================] - 50s 4ms/step - loss: 8.8815e-04 - Accuracy: 0.4786 - Precision: 0.9997 - Recall: 0.9999\n",
            "Epoch 15/100\n",
            "14216/14216 [==============================] - 50s 4ms/step - loss: 8.6790e-04 - Accuracy: 0.4899 - Precision: 0.9998 - Recall: 0.9999\n",
            "Epoch 16/100\n",
            "14216/14216 [==============================] - 50s 4ms/step - loss: 9.6692e-04 - Accuracy: 0.4553 - Precision: 0.9998 - Recall: 0.9999\n",
            "Epoch 17/100\n",
            "14216/14216 [==============================] - 51s 4ms/step - loss: 9.5190e-04 - Accuracy: 0.4498 - Precision: 0.9998 - Recall: 0.9998\n",
            "Epoch 18/100\n",
            "14216/14216 [==============================] - 50s 4ms/step - loss: 7.4931e-04 - Accuracy: 0.5385 - Precision: 0.9998 - Recall: 0.9999\n",
            "Epoch 19/100\n",
            "14216/14216 [==============================] - 50s 4ms/step - loss: 7.7016e-04 - Accuracy: 0.5308 - Precision: 0.9998 - Recall: 0.9999\n",
            "Epoch 20/100\n",
            "14216/14216 [==============================] - 50s 4ms/step - loss: 8.9969e-04 - Accuracy: 0.4783 - Precision: 0.9998 - Recall: 0.9999\n",
            "Epoch 21/100\n",
            "14216/14216 [==============================] - 50s 4ms/step - loss: 0.0010 - Accuracy: 0.5544 - Precision: 0.9999 - Recall: 0.9998\n",
            "Epoch 22/100\n",
            "14216/14216 [==============================] - 51s 4ms/step - loss: 9.1218e-04 - Accuracy: 0.5479 - Precision: 0.9998 - Recall: 0.9999\n",
            "Epoch 23/100\n",
            "14216/14216 [==============================] - 51s 4ms/step - loss: 8.4838e-04 - Accuracy: 0.5283 - Precision: 0.9998 - Recall: 0.9999\n",
            "Epoch 24/100\n",
            "14216/14216 [==============================] - 51s 4ms/step - loss: 8.0392e-04 - Accuracy: 0.5309 - Precision: 0.9998 - Recall: 0.9999\n",
            "Epoch 25/100\n",
            "14216/14216 [==============================] - 51s 4ms/step - loss: 6.7499e-04 - Accuracy: 0.5190 - Precision: 0.9999 - Recall: 0.9999\n",
            "Epoch 26/100\n",
            "14216/14216 [==============================] - 51s 4ms/step - loss: 8.2744e-04 - Accuracy: 0.4973 - Precision: 0.9998 - Recall: 0.9999\n",
            "Epoch 27/100\n",
            "14216/14216 [==============================] - 51s 4ms/step - loss: 6.3898e-04 - Accuracy: 0.4852 - Precision: 0.9999 - Recall: 0.9999\n",
            "Epoch 28/100\n",
            "14216/14216 [==============================] - 51s 4ms/step - loss: 7.1809e-04 - Accuracy: 0.6792 - Precision: 0.9999 - Recall: 0.9999\n",
            "Epoch 29/100\n",
            "14216/14216 [==============================] - 51s 4ms/step - loss: 5.6729e-04 - Accuracy: 0.5751 - Precision: 0.9999 - Recall: 0.9999\n",
            "Epoch 30/100\n",
            "14216/14216 [==============================] - 51s 4ms/step - loss: 6.9819e-04 - Accuracy: 0.5345 - Precision: 0.9999 - Recall: 0.9999\n",
            "Epoch 31/100\n",
            "14216/14216 [==============================] - 51s 4ms/step - loss: 5.9700e-04 - Accuracy: 0.6239 - Precision: 0.9999 - Recall: 0.9999\n",
            "Epoch 32/100\n",
            "14216/14216 [==============================] - 51s 4ms/step - loss: 6.2887e-04 - Accuracy: 0.5292 - Precision: 0.9999 - Recall: 0.9999\n",
            "Epoch 33/100\n",
            "14216/14216 [==============================] - 51s 4ms/step - loss: 6.3056e-04 - Accuracy: 0.7005 - Precision: 0.9999 - Recall: 0.9999\n",
            "Epoch 34/100\n",
            "14216/14216 [==============================] - 51s 4ms/step - loss: 4.1532e-04 - Accuracy: 0.6642 - Precision: 0.9999 - Recall: 0.9999\n",
            "Epoch 35/100\n",
            "14216/14216 [==============================] - 51s 4ms/step - loss: 5.4295e-04 - Accuracy: 0.6489 - Precision: 0.9999 - Recall: 0.9999\n",
            "Epoch 36/100\n",
            "14216/14216 [==============================] - 52s 4ms/step - loss: 5.7499e-04 - Accuracy: 0.5769 - Precision: 0.9999 - Recall: 0.9999\n",
            "Epoch 37/100\n",
            "14216/14216 [==============================] - 51s 4ms/step - loss: 7.2300e-04 - Accuracy: 0.6732 - Precision: 0.9999 - Recall: 0.9999\n",
            "Epoch 38/100\n",
            "14216/14216 [==============================] - 52s 4ms/step - loss: 8.8989e-04 - Accuracy: 0.7105 - Precision: 0.9999 - Recall: 0.9999\n",
            "Epoch 39/100\n",
            "14216/14216 [==============================] - 53s 4ms/step - loss: 7.0986e-04 - Accuracy: 0.6989 - Precision: 0.9999 - Recall: 0.9999\n",
            "Epoch 40/100\n",
            "14216/14216 [==============================] - 54s 4ms/step - loss: 6.1484e-04 - Accuracy: 0.7451 - Precision: 0.9999 - Recall: 0.9999\n",
            "Epoch 41/100\n",
            "14216/14216 [==============================] - 54s 4ms/step - loss: 6.7863e-04 - Accuracy: 0.6348 - Precision: 0.9999 - Recall: 0.9999\n",
            "Epoch 42/100\n",
            "14216/14216 [==============================] - 53s 4ms/step - loss: 3.8296e-04 - Accuracy: 0.5854 - Precision: 0.9999 - Recall: 0.9999\n",
            "Epoch 43/100\n",
            "14216/14216 [==============================] - 53s 4ms/step - loss: 4.6635e-04 - Accuracy: 0.6203 - Precision: 0.9999 - Recall: 0.9999\n",
            "Epoch 44/100\n",
            "14216/14216 [==============================] - 54s 4ms/step - loss: 8.7202e-04 - Accuracy: 0.5523 - Precision: 0.9999 - Recall: 0.9999\n",
            "Epoch 45/100\n",
            "14216/14216 [==============================] - 53s 4ms/step - loss: 4.4695e-04 - Accuracy: 0.5922 - Precision: 0.9999 - Recall: 0.9999\n",
            "Epoch 46/100\n",
            "14216/14216 [==============================] - 53s 4ms/step - loss: 6.1322e-04 - Accuracy: 0.6100 - Precision: 0.9999 - Recall: 0.9999\n",
            "Epoch 47/100\n",
            "14216/14216 [==============================] - 53s 4ms/step - loss: 6.2659e-04 - Accuracy: 0.4951 - Precision: 0.9999 - Recall: 0.9999\n",
            "Epoch 48/100\n",
            "14216/14216 [==============================] - 53s 4ms/step - loss: 5.5804e-04 - Accuracy: 0.4801 - Precision: 0.9999 - Recall: 0.9999\n",
            "Epoch 49/100\n",
            "14216/14216 [==============================] - 53s 4ms/step - loss: 2.2071e-04 - Accuracy: 0.5904 - Precision: 0.9999 - Recall: 1.0000\n",
            "Epoch 50/100\n",
            "14216/14216 [==============================] - 52s 4ms/step - loss: 6.4533e-04 - Accuracy: 0.5666 - Precision: 0.9999 - Recall: 0.9999\n",
            "Epoch 51/100\n",
            "14216/14216 [==============================] - 52s 4ms/step - loss: 4.9570e-04 - Accuracy: 0.5778 - Precision: 0.9999 - Recall: 0.9999\n",
            "Epoch 52/100\n",
            "14216/14216 [==============================] - 53s 4ms/step - loss: 4.5957e-04 - Accuracy: 0.7365 - Precision: 0.9999 - Recall: 1.0000\n",
            "Epoch 53/100\n",
            "14216/14216 [==============================] - 53s 4ms/step - loss: 5.0758e-04 - Accuracy: 0.6737 - Precision: 0.9999 - Recall: 1.0000\n",
            "Epoch 54/100\n",
            "14216/14216 [==============================] - 53s 4ms/step - loss: 4.3252e-04 - Accuracy: 0.5751 - Precision: 0.9999 - Recall: 0.9999\n",
            "Epoch 55/100\n",
            "14216/14216 [==============================] - 53s 4ms/step - loss: 6.5129e-04 - Accuracy: 0.5527 - Precision: 0.9999 - Recall: 1.0000\n",
            "Epoch 56/100\n",
            "14216/14216 [==============================] - 53s 4ms/step - loss: 4.2586e-04 - Accuracy: 0.8239 - Precision: 0.9999 - Recall: 1.0000\n",
            "Epoch 57/100\n",
            "14216/14216 [==============================] - 53s 4ms/step - loss: 6.5418e-04 - Accuracy: 0.7338 - Precision: 0.9999 - Recall: 0.9999\n",
            "Epoch 58/100\n",
            "14216/14216 [==============================] - 53s 4ms/step - loss: 4.7689e-04 - Accuracy: 0.6910 - Precision: 0.9999 - Recall: 1.0000\n",
            "Epoch 59/100\n",
            "14216/14216 [==============================] - 53s 4ms/step - loss: 3.7233e-04 - Accuracy: 0.7762 - Precision: 0.9999 - Recall: 0.9999\n",
            "Epoch 60/100\n",
            "14216/14216 [==============================] - 53s 4ms/step - loss: 5.3920e-04 - Accuracy: 0.6571 - Precision: 0.9999 - Recall: 1.0000\n",
            "Epoch 61/100\n",
            "14216/14216 [==============================] - 53s 4ms/step - loss: 5.2817e-04 - Accuracy: 0.9016 - Precision: 0.9999 - Recall: 1.0000\n",
            "Epoch 62/100\n",
            "14216/14216 [==============================] - 53s 4ms/step - loss: 4.9855e-04 - Accuracy: 0.8791 - Precision: 0.9999 - Recall: 1.0000\n",
            "Epoch 63/100\n",
            "14216/14216 [==============================] - 53s 4ms/step - loss: 5.7997e-04 - Accuracy: 0.8969 - Precision: 0.9999 - Recall: 0.9999\n",
            "Epoch 64/100\n",
            "14216/14216 [==============================] - 53s 4ms/step - loss: 2.7327e-04 - Accuracy: 0.8948 - Precision: 0.9999 - Recall: 1.0000\n",
            "Epoch 65/100\n",
            "14216/14216 [==============================] - 54s 4ms/step - loss: 7.0135e-04 - Accuracy: 0.7641 - Precision: 0.9999 - Recall: 1.0000\n",
            "Epoch 66/100\n",
            "14216/14216 [==============================] - 53s 4ms/step - loss: 6.0364e-04 - Accuracy: 0.7326 - Precision: 0.9999 - Recall: 0.9999\n",
            "Epoch 67/100\n",
            "14216/14216 [==============================] - 55s 4ms/step - loss: 3.4751e-04 - Accuracy: 0.9226 - Precision: 0.9999 - Recall: 1.0000\n",
            "Epoch 68/100\n",
            "14216/14216 [==============================] - 54s 4ms/step - loss: 8.9560e-04 - Accuracy: 0.9624 - Precision: 0.9999 - Recall: 0.9999\n",
            "Epoch 69/100\n",
            "14216/14216 [==============================] - 53s 4ms/step - loss: 3.1568e-04 - Accuracy: 0.9751 - Precision: 0.9999 - Recall: 1.0000\n",
            "Epoch 70/100\n",
            "14216/14216 [==============================] - 53s 4ms/step - loss: 0.0010 - Accuracy: 0.9611 - Precision: 0.9998 - Recall: 0.9999\n",
            "Epoch 71/100\n",
            "14216/14216 [==============================] - 53s 4ms/step - loss: 2.2066e-04 - Accuracy: 0.9793 - Precision: 0.9999 - Recall: 1.0000\n",
            "Epoch 72/100\n",
            "14216/14216 [==============================] - 53s 4ms/step - loss: 0.0010 - Accuracy: 0.9832 - Precision: 0.9999 - Recall: 1.0000\n",
            "Epoch 73/100\n",
            "14216/14216 [==============================] - 54s 4ms/step - loss: 5.9906e-04 - Accuracy: 0.9866 - Precision: 0.9999 - Recall: 1.0000\n",
            "Epoch 74/100\n",
            "14216/14216 [==============================] - 53s 4ms/step - loss: 8.5443e-04 - Accuracy: 0.9812 - Precision: 0.9999 - Recall: 1.0000\n",
            "Epoch 75/100\n",
            "14216/14216 [==============================] - 53s 4ms/step - loss: 5.1510e-04 - Accuracy: 0.9698 - Precision: 0.9999 - Recall: 1.0000\n",
            "Epoch 76/100\n",
            "14216/14216 [==============================] - 53s 4ms/step - loss: 9.3571e-04 - Accuracy: 0.9683 - Precision: 0.9999 - Recall: 0.9999\n",
            "Epoch 77/100\n",
            "14216/14216 [==============================] - 53s 4ms/step - loss: 7.8542e-04 - Accuracy: 0.9902 - Precision: 0.9999 - Recall: 1.0000\n",
            "Epoch 78/100\n",
            "14216/14216 [==============================] - 53s 4ms/step - loss: 5.3221e-04 - Accuracy: 0.9803 - Precision: 0.9999 - Recall: 1.0000\n",
            "Epoch 79/100\n",
            "14216/14216 [==============================] - 53s 4ms/step - loss: 0.0017 - Accuracy: 0.9780 - Precision: 0.9998 - Recall: 1.0000\n",
            "Epoch 80/100\n",
            "14216/14216 [==============================] - 53s 4ms/step - loss: 0.0011 - Accuracy: 0.8779 - Precision: 0.9998 - Recall: 0.9999\n",
            "Epoch 81/100\n",
            "14216/14216 [==============================] - 53s 4ms/step - loss: 0.0012 - Accuracy: 0.9421 - Precision: 0.9999 - Recall: 1.0000\n",
            "Epoch 82/100\n",
            "14216/14216 [==============================] - 53s 4ms/step - loss: 6.4578e-04 - Accuracy: 0.9517 - Precision: 0.9999 - Recall: 1.0000\n",
            "Epoch 83/100\n",
            "14216/14216 [==============================] - 53s 4ms/step - loss: 9.0667e-04 - Accuracy: 0.8996 - Precision: 0.9999 - Recall: 1.0000\n",
            "Epoch 84/100\n",
            "14216/14216 [==============================] - 53s 4ms/step - loss: 0.0020 - Accuracy: 0.9302 - Precision: 0.9999 - Recall: 1.0000\n",
            "Epoch 85/100\n",
            "14216/14216 [==============================] - 53s 4ms/step - loss: 6.4952e-04 - Accuracy: 0.9872 - Precision: 0.9999 - Recall: 1.0000\n",
            "Epoch 86/100\n",
            "14216/14216 [==============================] - 53s 4ms/step - loss: 6.8389e-04 - Accuracy: 0.9605 - Precision: 0.9999 - Recall: 0.9999\n",
            "Epoch 87/100\n",
            "14216/14216 [==============================] - 53s 4ms/step - loss: 7.4786e-04 - Accuracy: 0.9756 - Precision: 0.9999 - Recall: 1.0000\n",
            "Epoch 88/100\n",
            "14216/14216 [==============================] - 53s 4ms/step - loss: 0.0041 - Accuracy: 0.9956 - Precision: 0.9999 - Recall: 1.0000\n",
            "Epoch 89/100\n",
            "14216/14216 [==============================] - 53s 4ms/step - loss: 3.9753e-04 - Accuracy: 0.9912 - Precision: 0.9999 - Recall: 0.9999\n",
            "Epoch 90/100\n",
            "14216/14216 [==============================] - 54s 4ms/step - loss: 7.8438e-04 - Accuracy: 0.9701 - Precision: 0.9999 - Recall: 1.0000\n",
            "Epoch 91/100\n",
            "14216/14216 [==============================] - 54s 4ms/step - loss: 2.9251e-04 - Accuracy: 0.9000 - Precision: 0.9999 - Recall: 1.0000\n",
            "Epoch 92/100\n",
            "14216/14216 [==============================] - 55s 4ms/step - loss: 8.8255e-04 - Accuracy: 0.9737 - Precision: 0.9999 - Recall: 1.0000\n",
            "Epoch 93/100\n",
            "14216/14216 [==============================] - 55s 4ms/step - loss: 0.0010 - Accuracy: 0.9883 - Precision: 0.9998 - Recall: 1.0000\n",
            "Epoch 94/100\n",
            "14216/14216 [==============================] - 55s 4ms/step - loss: 3.5059e-04 - Accuracy: 0.9955 - Precision: 0.9999 - Recall: 1.0000\n",
            "Epoch 95/100\n",
            "14216/14216 [==============================] - 54s 4ms/step - loss: 0.0013 - Accuracy: 0.9969 - Precision: 0.9999 - Recall: 1.0000\n",
            "Epoch 96/100\n",
            "14216/14216 [==============================] - 54s 4ms/step - loss: 2.7710e-04 - Accuracy: 0.9859 - Precision: 0.9999 - Recall: 1.0000\n",
            "Epoch 97/100\n",
            "14216/14216 [==============================] - 54s 4ms/step - loss: 8.4905e-04 - Accuracy: 0.9402 - Precision: 0.9999 - Recall: 1.0000\n",
            "Epoch 98/100\n",
            "14216/14216 [==============================] - 55s 4ms/step - loss: 0.0011 - Accuracy: 0.8948 - Precision: 0.9999 - Recall: 1.0000\n",
            "Epoch 99/100\n",
            "14216/14216 [==============================] - 55s 4ms/step - loss: 4.3789e-04 - Accuracy: 0.9083 - Precision: 0.9999 - Recall: 0.9999\n",
            "Epoch 100/100\n",
            "14216/14216 [==============================] - 53s 4ms/step - loss: 6.8729e-04 - Accuracy: 0.9803 - Precision: 0.9999 - Recall: 1.0000\n"
          ]
        }
      ]
    },
    {
      "cell_type": "markdown",
      "metadata": {
        "id": "x_KgxFZtV1Vj"
      },
      "source": [
        "##Making the predictions and evaluating the model"
      ]
    },
    {
      "cell_type": "code",
      "metadata": {
        "colab": {
          "base_uri": "https://localhost:8080/",
          "height": 295
        },
        "id": "YK0a558Vi2ac",
        "outputId": "0445de7d-c904-4790-b105-6cabee3fc157"
      },
      "source": [
        "# Evaluating the model \n",
        "loss_train = history.history['Accuracy']\n",
        "# loss_val = history.history['val_accuracy']\n",
        "epochs = range(1,101)\n",
        "plt.plot(epochs, loss_train, 'g', label='Training accuracy')\n",
        "# plt.plot(epochs,loss_val, 'b', label='validation accuracy')\n",
        "plt.title('Training accuracy')\n",
        "plt.xlabel('Epochs')\n",
        "plt.ylabel('Accuracy')\n",
        "plt.legend()\n",
        "plt.show()"
      ],
      "execution_count": 24,
      "outputs": [
        {
          "output_type": "display_data",
          "data": {
            "image/png": "[encoded data removed]",
            "text/plain": [
              "<Figure size 432x288 with 1 Axes>"
            ]
          },
          "metadata": {
            "needs_background": "light"
          }
        }
      ]
    },
    {
      "cell_type": "markdown",
      "metadata": {
        "id": "n4HC2a_zZgvw"
      },
      "source": [
        "###Predicting the Test set results"
      ]
    },
    {
      "cell_type": "code",
      "metadata": {
        "colab": {
          "base_uri": "https://localhost:8080/"
        },
        "id": "rqZGhEdeV6IJ",
        "outputId": "eb934e28-f65c-488b-85e3-16b66c6510d7"
      },
      "source": [
        "y_pred = ann.predict(X_test)\n",
        "y_pred = (y_pred>0.5)\n",
        "print(np.concatenate((y_pred.reshape(len(y_pred),1), y_test.reshape(len(y_test),1)),1))"
      ],
      "execution_count": 25,
      "outputs": [
        {
          "output_type": "stream",
          "name": "stdout",
          "text": [
            "[[0 0]\n",
            " [0 0]\n",
            " [0 0]\n",
            " ...\n",
            " [0 0]\n",
            " [0 0]\n",
            " [0 0]]\n"
          ]
        }
      ]
    },
    {
      "cell_type": "markdown",
      "metadata": {
        "id": "QHB5kRNWZnvW"
      },
      "source": [
        "###Making the Confusion Matrix"
      ]
    },
    {
      "cell_type": "code",
      "metadata": {
        "colab": {
          "base_uri": "https://localhost:8080/"
        },
        "id": "_Y1UAfuHZqMZ",
        "outputId": "7a1129fe-b78e-4a1b-aa58-d6107f39bd70"
      },
      "source": [
        "from sklearn.metrics import confusion_matrix, accuracy_score, recall_score, precision_score, f1_score\n",
        "cm = confusion_matrix(y_test,y_pred)\n",
        "print(cm)\n",
        "print(\"Accuracy: \", accuracy_score(y_test, y_pred))\n",
        "print(\"Recall: \", recall_score(y_test, y_pred))\n",
        "print(\"Precision: \", precision_score(y_test, y_pred))\n",
        "print(\"F1_Score: \" ,f1_score(y_test, y_pred))"
      ],
      "execution_count": 26,
      "outputs": [
        {
          "output_type": "stream",
          "name": "stdout",
          "text": [
            "[[56844    17]\n",
            " [   19    82]]\n",
            "Accuracy:  0.9993679997191109\n",
            "Recall:  0.8118811881188119\n",
            "Precision:  0.8282828282828283\n",
            "F1_Score:  0.8200000000000001\n"
          ]
        }
      ]
    },
    {
      "cell_type": "code",
      "metadata": {
        "id": "i_uC4V_intti"
      },
      "source": [
        ""
      ],
      "execution_count": null,
      "outputs": []
    }
  ]
}