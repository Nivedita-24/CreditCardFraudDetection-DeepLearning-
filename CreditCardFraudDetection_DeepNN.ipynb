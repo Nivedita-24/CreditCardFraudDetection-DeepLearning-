{
 "cells": [
  {
   "cell_type": "markdown",
   "metadata": {},
   "source": [
    "# Detecting Credit Card Fraud using Tensorflow"
   ]
  },
  {
   "cell_type": "markdown",
   "metadata": {},
   "source": [
    "In this project, we'll be leveraging the power of deep learning to solve a key issue that credit card companies often have to address, namely detecting fradulent transactions."
   ]
  },
  {
   "cell_type": "markdown",
   "metadata": {},
   "source": [
    "## Importing Python Libraries"
   ]
  },
  {
   "cell_type": "code",
   "execution_count": 1,
   "metadata": {},
   "outputs": [],
   "source": [
    "import pandas as pd\n",
    "import numpy as np\n",
    "from matplotlib import pyplot as plt\n",
    "import seaborn as sns\n",
    "import sklearn\n",
    "import scipy\n",
    "from sklearn.preprocessing import StandardScaler\n",
    "import sklearn.model_selection as model_selection\n",
    "from imblearn.over_sampling import SMOTE\n",
    "import tensorflow as tf\n",
    "from tensorflow import keras\n"
   ]
  },
  {
   "cell_type": "markdown",
   "metadata": {},
   "source": [
    "## Importing the Dataset"
   ]
  },
  {
   "cell_type": "code",
   "execution_count": 2,
   "metadata": {},
   "outputs": [],
   "source": [
    "CreditCard = pd.read_csv(\"creditcard.csv\")"
   ]
  },
  {
   "cell_type": "code",
   "execution_count": 3,
   "metadata": {},
   "outputs": [
    {
     "name": "stdout",
     "output_type": "stream",
     "text": [
      "Total no. of records in the dataset are 284807\n",
      "Total features in the dataset are 31\n"
     ]
    },
    {
     "data": {
      "text/html": [
       "<div>\n",
       "<style scoped>\n",
       "    .dataframe tbody tr th:only-of-type {\n",
       "        vertical-align: middle;\n",
       "    }\n",
       "\n",
       "    .dataframe tbody tr th {\n",
       "        vertical-align: top;\n",
       "    }\n",
       "\n",
       "    .dataframe thead th {\n",
       "        text-align: right;\n",
       "    }\n",
       "</style>\n",
       "<table border=\"1\" class=\"dataframe\">\n",
       "  <thead>\n",
       "    <tr style=\"text-align: right;\">\n",
       "      <th></th>\n",
       "      <th>Time</th>\n",
       "      <th>V1</th>\n",
       "      <th>V2</th>\n",
       "      <th>V3</th>\n",
       "      <th>V4</th>\n",
       "      <th>V5</th>\n",
       "      <th>V6</th>\n",
       "      <th>V7</th>\n",
       "      <th>V8</th>\n",
       "      <th>V9</th>\n",
       "      <th>...</th>\n",
       "      <th>V21</th>\n",
       "      <th>V22</th>\n",
       "      <th>V23</th>\n",
       "      <th>V24</th>\n",
       "      <th>V25</th>\n",
       "      <th>V26</th>\n",
       "      <th>V27</th>\n",
       "      <th>V28</th>\n",
       "      <th>Amount</th>\n",
       "      <th>Class</th>\n",
       "    </tr>\n",
       "  </thead>\n",
       "  <tbody>\n",
       "    <tr>\n",
       "      <th>0</th>\n",
       "      <td>0.0</td>\n",
       "      <td>-1.359807</td>\n",
       "      <td>-0.072781</td>\n",
       "      <td>2.536347</td>\n",
       "      <td>1.378155</td>\n",
       "      <td>-0.338321</td>\n",
       "      <td>0.462388</td>\n",
       "      <td>0.239599</td>\n",
       "      <td>0.098698</td>\n",
       "      <td>0.363787</td>\n",
       "      <td>...</td>\n",
       "      <td>-0.018307</td>\n",
       "      <td>0.277838</td>\n",
       "      <td>-0.110474</td>\n",
       "      <td>0.066928</td>\n",
       "      <td>0.128539</td>\n",
       "      <td>-0.189115</td>\n",
       "      <td>0.133558</td>\n",
       "      <td>-0.021053</td>\n",
       "      <td>149.62</td>\n",
       "      <td>'0'</td>\n",
       "    </tr>\n",
       "    <tr>\n",
       "      <th>1</th>\n",
       "      <td>0.0</td>\n",
       "      <td>1.191857</td>\n",
       "      <td>0.266151</td>\n",
       "      <td>0.166480</td>\n",
       "      <td>0.448154</td>\n",
       "      <td>0.060018</td>\n",
       "      <td>-0.082361</td>\n",
       "      <td>-0.078803</td>\n",
       "      <td>0.085102</td>\n",
       "      <td>-0.255425</td>\n",
       "      <td>...</td>\n",
       "      <td>-0.225775</td>\n",
       "      <td>-0.638672</td>\n",
       "      <td>0.101288</td>\n",
       "      <td>-0.339846</td>\n",
       "      <td>0.167170</td>\n",
       "      <td>0.125895</td>\n",
       "      <td>-0.008983</td>\n",
       "      <td>0.014724</td>\n",
       "      <td>2.69</td>\n",
       "      <td>'0'</td>\n",
       "    </tr>\n",
       "    <tr>\n",
       "      <th>2</th>\n",
       "      <td>1.0</td>\n",
       "      <td>-1.358354</td>\n",
       "      <td>-1.340163</td>\n",
       "      <td>1.773209</td>\n",
       "      <td>0.379780</td>\n",
       "      <td>-0.503198</td>\n",
       "      <td>1.800499</td>\n",
       "      <td>0.791461</td>\n",
       "      <td>0.247676</td>\n",
       "      <td>-1.514654</td>\n",
       "      <td>...</td>\n",
       "      <td>0.247998</td>\n",
       "      <td>0.771679</td>\n",
       "      <td>0.909412</td>\n",
       "      <td>-0.689281</td>\n",
       "      <td>-0.327642</td>\n",
       "      <td>-0.139097</td>\n",
       "      <td>-0.055353</td>\n",
       "      <td>-0.059752</td>\n",
       "      <td>378.66</td>\n",
       "      <td>'0'</td>\n",
       "    </tr>\n",
       "    <tr>\n",
       "      <th>3</th>\n",
       "      <td>1.0</td>\n",
       "      <td>-0.966272</td>\n",
       "      <td>-0.185226</td>\n",
       "      <td>1.792993</td>\n",
       "      <td>-0.863291</td>\n",
       "      <td>-0.010309</td>\n",
       "      <td>1.247203</td>\n",
       "      <td>0.237609</td>\n",
       "      <td>0.377436</td>\n",
       "      <td>-1.387024</td>\n",
       "      <td>...</td>\n",
       "      <td>-0.108300</td>\n",
       "      <td>0.005274</td>\n",
       "      <td>-0.190321</td>\n",
       "      <td>-1.175575</td>\n",
       "      <td>0.647376</td>\n",
       "      <td>-0.221929</td>\n",
       "      <td>0.062723</td>\n",
       "      <td>0.061458</td>\n",
       "      <td>123.50</td>\n",
       "      <td>'0'</td>\n",
       "    </tr>\n",
       "    <tr>\n",
       "      <th>4</th>\n",
       "      <td>2.0</td>\n",
       "      <td>-1.158233</td>\n",
       "      <td>0.877737</td>\n",
       "      <td>1.548718</td>\n",
       "      <td>0.403034</td>\n",
       "      <td>-0.407193</td>\n",
       "      <td>0.095921</td>\n",
       "      <td>0.592941</td>\n",
       "      <td>-0.270533</td>\n",
       "      <td>0.817739</td>\n",
       "      <td>...</td>\n",
       "      <td>-0.009431</td>\n",
       "      <td>0.798278</td>\n",
       "      <td>-0.137458</td>\n",
       "      <td>0.141267</td>\n",
       "      <td>-0.206010</td>\n",
       "      <td>0.502292</td>\n",
       "      <td>0.219422</td>\n",
       "      <td>0.215153</td>\n",
       "      <td>69.99</td>\n",
       "      <td>'0'</td>\n",
       "    </tr>\n",
       "  </tbody>\n",
       "</table>\n",
       "<p>5 rows × 31 columns</p>\n",
       "</div>"
      ],
      "text/plain": [
       "   Time        V1        V2        V3        V4        V5        V6        V7  \\\n",
       "0   0.0 -1.359807 -0.072781  2.536347  1.378155 -0.338321  0.462388  0.239599   \n",
       "1   0.0  1.191857  0.266151  0.166480  0.448154  0.060018 -0.082361 -0.078803   \n",
       "2   1.0 -1.358354 -1.340163  1.773209  0.379780 -0.503198  1.800499  0.791461   \n",
       "3   1.0 -0.966272 -0.185226  1.792993 -0.863291 -0.010309  1.247203  0.237609   \n",
       "4   2.0 -1.158233  0.877737  1.548718  0.403034 -0.407193  0.095921  0.592941   \n",
       "\n",
       "         V8        V9  ...       V21       V22       V23       V24       V25  \\\n",
       "0  0.098698  0.363787  ... -0.018307  0.277838 -0.110474  0.066928  0.128539   \n",
       "1  0.085102 -0.255425  ... -0.225775 -0.638672  0.101288 -0.339846  0.167170   \n",
       "2  0.247676 -1.514654  ...  0.247998  0.771679  0.909412 -0.689281 -0.327642   \n",
       "3  0.377436 -1.387024  ... -0.108300  0.005274 -0.190321 -1.175575  0.647376   \n",
       "4 -0.270533  0.817739  ... -0.009431  0.798278 -0.137458  0.141267 -0.206010   \n",
       "\n",
       "        V26       V27       V28  Amount  Class  \n",
       "0 -0.189115  0.133558 -0.021053  149.62    '0'  \n",
       "1  0.125895 -0.008983  0.014724    2.69    '0'  \n",
       "2 -0.139097 -0.055353 -0.059752  378.66    '0'  \n",
       "3 -0.221929  0.062723  0.061458  123.50    '0'  \n",
       "4  0.502292  0.219422  0.215153   69.99    '0'  \n",
       "\n",
       "[5 rows x 31 columns]"
      ]
     },
     "execution_count": 3,
     "metadata": {},
     "output_type": "execute_result"
    }
   ],
   "source": [
    "print(\"Total no. of records in the dataset are\", CreditCard.shape[0])\n",
    "print(\"Total features in the dataset are\", CreditCard.shape[1])\n",
    "CreditCard.head()"
   ]
  },
  {
   "cell_type": "code",
   "execution_count": 4,
   "metadata": {},
   "outputs": [
    {
     "data": {
      "text/plain": [
       "False"
      ]
     },
     "execution_count": 4,
     "metadata": {},
     "output_type": "execute_result"
    }
   ],
   "source": [
    "## To check missing values in the dataset.\n",
    "CreditCard.isnull().values.any() "
   ]
  },
  {
   "cell_type": "markdown",
   "metadata": {},
   "source": [
    "The output shows that our dataset has no missing data"
   ]
  },
  {
   "cell_type": "code",
   "execution_count": 5,
   "metadata": {},
   "outputs": [
    {
     "name": "stdout",
     "output_type": "stream",
     "text": [
      "Percentage of Fraudulent Transactions in the dataset are 0.17 %\n"
     ]
    }
   ],
   "source": [
    "## Rename Class\n",
    "CreditCard.rename(columns ={'Class': \"isFraud\"}, inplace = True)\n",
    "CreditCard = CreditCard.applymap(lambda x: x.replace(\"'\", \"\") if (isinstance(x, str)) else x)\n",
    "CreditCard['isFraud'] = pd.to_numeric(CreditCard['isFraud'])\n",
    "\n",
    "# fraudulent Transactions Percentage\n",
    "fraud_per = CreditCard[CreditCard.isFraud == 1].isFraud.count() / CreditCard.isFraud.count()*100\n",
    "print(\"Percentage of Fraudulent Transactions in the dataset are {:.2f} %\".format(fraud_per))"
   ]
  },
  {
   "cell_type": "markdown",
   "metadata": {},
   "source": [
    "We got the dataset from Kaggle and it contains two days worth of transactions by European cardholders. Due to cdonfidential nature of the data, a PCA transformation was done on 28 features and we have no information on what those features are. The only features that haven't undergone this transformation and we can identify them are 'Time', 'Amount', and 'Class'.\n",
    "\n",
    "Time represents the seconds elapsed between each transaction and the first transaction in the dataset. 'Amount denotes the amount of transaction anjd 'Class' refers to out target variable with 0 referring to a normal transaction and 1 referring to a fraudulent one.\n",
    "\n",
    "It is important to note here that the target variable's instances are imbalanced. Only 0.17% of transactions are fraudulent."
   ]
  },
  {
   "cell_type": "code",
   "execution_count": 6,
   "metadata": {},
   "outputs": [
    {
     "data": {
      "image/png": "[encoded data removed]",
      "text/plain": [
       "<Figure size 432x288 with 2 Axes>"
      ]
     },
     "metadata": {
      "needs_background": "light"
     },
     "output_type": "display_data"
    }
   ],
   "source": [
    "## Do fraudulent transactions occur more often during certain time?\n",
    "f, (ax1, ax2) = plt.subplots(2,1, sharex = True)\n",
    "f.suptitle('Time of transaction vs Amount by class')\n",
    "\n",
    "ax1.scatter(CreditCard[CreditCard.isFraud == 1].Time, CreditCard[CreditCard.isFraud == 1].Amount)\n",
    "ax1.set_title('Fraud')\n",
    "\n",
    "ax2.scatter(CreditCard[CreditCard.isFraud == 0].Time, CreditCard[CreditCard.isFraud == 0].Amount)\n",
    "ax2.set_title('Normal')\n",
    "\n",
    "plt.xlabel('Time in Seconds')\n",
    "plt.ylabel('Amount')\n",
    "plt.show()"
   ]
  },
  {
   "cell_type": "markdown",
   "metadata": {},
   "source": [
    "Doesn't seem like the time of transaction really matters."
   ]
  },
  {
   "cell_type": "markdown",
   "metadata": {},
   "source": [
    "## DataPreprocessing"
   ]
  },
  {
   "cell_type": "code",
   "execution_count": 7,
   "metadata": {},
   "outputs": [],
   "source": [
    "## Defining x and y\n",
    "x = CreditCard.iloc[:,:-1].values\n",
    "y = CreditCard.iloc[:,:1].values"
   ]
  },
  {
   "cell_type": "code",
   "execution_count": 8,
   "metadata": {},
   "outputs": [],
   "source": [
    "## Defining training and tesing set\n",
    "## Train-Test split\n",
    "X_train, X_test, y_train, y_test = model_selection.train_test_split(x, y, test_size =0.1, random_state = 100)"
   ]
  },
  {
   "cell_type": "code",
   "execution_count": 9,
   "metadata": {},
   "outputs": [],
   "source": [
    "## Standardising the dataset as this would speedup the training process\n",
    "\n",
    "## Standardization\n",
    "scaler = StandardScaler()\n",
    "X_train = scaler.fit_transform(X_train)\n",
    "X_test = scaler.fit_transform(X_test)\n"
   ]
  },
  {
   "cell_type": "markdown",
   "metadata": {},
   "source": [
    "As mentioned previously, this dataset is highly imbalanced. We'll address this issue using Synthetic Minority Oversampling Technique (SMOTE). This technique creates artificial minority class samples by replicating them. In this case it will create synthetic fraud instances and so corrects the imbalance in our dataset."
   ]
  },
  {
   "cell_type": "code",
   "execution_count": 11,
   "metadata": {},
   "outputs": [
    {
     "ename": "ValueError",
     "evalue": "Expected n_neighbors <= n_samples,  but n_samples = 2, n_neighbors = 6",
     "output_type": "error",
     "traceback": [
      "\u001b[0;31m---------------------------------------------------------------------------\u001b[0m",
      "\u001b[0;31mValueError\u001b[0m                                Traceback (most recent call last)",
      "\u001b[0;32m<ipython-input-11-567369409c52>\u001b[0m in \u001b[0;36m<module>\u001b[0;34m\u001b[0m\n\u001b[1;32m      4\u001b[0m \u001b[0;34m\u001b[0m\u001b[0m\n\u001b[1;32m      5\u001b[0m \u001b[0moversample\u001b[0m \u001b[0;34m=\u001b[0m \u001b[0mSMOTE\u001b[0m\u001b[0;34m(\u001b[0m\u001b[0;34m)\u001b[0m\u001b[0;34m\u001b[0m\u001b[0;34m\u001b[0m\u001b[0m\n\u001b[0;32m----> 6\u001b[0;31m \u001b[0mX_train_SMOTE\u001b[0m\u001b[0;34m,\u001b[0m \u001b[0my_train_SMOTE\u001b[0m \u001b[0;34m=\u001b[0m \u001b[0moversample\u001b[0m\u001b[0;34m.\u001b[0m\u001b[0mfit_resample\u001b[0m\u001b[0;34m(\u001b[0m\u001b[0mX_train\u001b[0m\u001b[0;34m,\u001b[0m \u001b[0my_train\u001b[0m\u001b[0;34m)\u001b[0m\u001b[0;34m\u001b[0m\u001b[0;34m\u001b[0m\u001b[0m\n\u001b[0m\u001b[1;32m      7\u001b[0m \u001b[0;34m\u001b[0m\u001b[0m\n\u001b[1;32m      8\u001b[0m \u001b[0;31m# ## SMOTE plot\u001b[0m\u001b[0;34m\u001b[0m\u001b[0;34m\u001b[0m\u001b[0;34m\u001b[0m\u001b[0m\n",
      "\u001b[0;32m/opt/anaconda3/lib/python3.7/site-packages/imblearn/base.py\u001b[0m in \u001b[0;36mfit_resample\u001b[0;34m(self, X, y)\u001b[0m\n\u001b[1;32m     81\u001b[0m         )\n\u001b[1;32m     82\u001b[0m \u001b[0;34m\u001b[0m\u001b[0m\n\u001b[0;32m---> 83\u001b[0;31m         \u001b[0moutput\u001b[0m \u001b[0;34m=\u001b[0m \u001b[0mself\u001b[0m\u001b[0;34m.\u001b[0m\u001b[0m_fit_resample\u001b[0m\u001b[0;34m(\u001b[0m\u001b[0mX\u001b[0m\u001b[0;34m,\u001b[0m \u001b[0my\u001b[0m\u001b[0;34m)\u001b[0m\u001b[0;34m\u001b[0m\u001b[0;34m\u001b[0m\u001b[0m\n\u001b[0m\u001b[1;32m     84\u001b[0m \u001b[0;34m\u001b[0m\u001b[0m\n\u001b[1;32m     85\u001b[0m         y_ = (label_binarize(output[1], np.unique(y))\n",
      "\u001b[0;32m/opt/anaconda3/lib/python3.7/site-packages/imblearn/over_sampling/_smote.py\u001b[0m in \u001b[0;36m_fit_resample\u001b[0;34m(self, X, y)\u001b[0m\n\u001b[1;32m    730\u001b[0m \u001b[0;34m\u001b[0m\u001b[0m\n\u001b[1;32m    731\u001b[0m             \u001b[0mself\u001b[0m\u001b[0;34m.\u001b[0m\u001b[0mnn_k_\u001b[0m\u001b[0;34m.\u001b[0m\u001b[0mfit\u001b[0m\u001b[0;34m(\u001b[0m\u001b[0mX_class\u001b[0m\u001b[0;34m)\u001b[0m\u001b[0;34m\u001b[0m\u001b[0;34m\u001b[0m\u001b[0m\n\u001b[0;32m--> 732\u001b[0;31m             \u001b[0mnns\u001b[0m \u001b[0;34m=\u001b[0m \u001b[0mself\u001b[0m\u001b[0;34m.\u001b[0m\u001b[0mnn_k_\u001b[0m\u001b[0;34m.\u001b[0m\u001b[0mkneighbors\u001b[0m\u001b[0;34m(\u001b[0m\u001b[0mX_class\u001b[0m\u001b[0;34m,\u001b[0m \u001b[0mreturn_distance\u001b[0m\u001b[0;34m=\u001b[0m\u001b[0;32mFalse\u001b[0m\u001b[0;34m)\u001b[0m\u001b[0;34m[\u001b[0m\u001b[0;34m:\u001b[0m\u001b[0;34m,\u001b[0m \u001b[0;36m1\u001b[0m\u001b[0;34m:\u001b[0m\u001b[0;34m]\u001b[0m\u001b[0;34m\u001b[0m\u001b[0;34m\u001b[0m\u001b[0m\n\u001b[0m\u001b[1;32m    733\u001b[0m             X_new, y_new = self._make_samples(\n\u001b[1;32m    734\u001b[0m                 \u001b[0mX_class\u001b[0m\u001b[0;34m,\u001b[0m \u001b[0my\u001b[0m\u001b[0;34m.\u001b[0m\u001b[0mdtype\u001b[0m\u001b[0;34m,\u001b[0m \u001b[0mclass_sample\u001b[0m\u001b[0;34m,\u001b[0m \u001b[0mX_class\u001b[0m\u001b[0;34m,\u001b[0m \u001b[0mnns\u001b[0m\u001b[0;34m,\u001b[0m \u001b[0mn_samples\u001b[0m\u001b[0;34m,\u001b[0m \u001b[0;36m1.0\u001b[0m\u001b[0;34m\u001b[0m\u001b[0;34m\u001b[0m\u001b[0m\n",
      "\u001b[0;32m/opt/anaconda3/lib/python3.7/site-packages/sklearn/neighbors/_base.py\u001b[0m in \u001b[0;36mkneighbors\u001b[0;34m(self, X, n_neighbors, return_distance)\u001b[0m\n\u001b[1;32m    681\u001b[0m                 \u001b[0;34m\"Expected n_neighbors <= n_samples, \"\u001b[0m\u001b[0;34m\u001b[0m\u001b[0;34m\u001b[0m\u001b[0m\n\u001b[1;32m    682\u001b[0m                 \u001b[0;34m\" but n_samples = %d, n_neighbors = %d\"\u001b[0m \u001b[0;34m%\u001b[0m\u001b[0;34m\u001b[0m\u001b[0;34m\u001b[0m\u001b[0m\n\u001b[0;32m--> 683\u001b[0;31m                 \u001b[0;34m(\u001b[0m\u001b[0mn_samples_fit\u001b[0m\u001b[0;34m,\u001b[0m \u001b[0mn_neighbors\u001b[0m\u001b[0;34m)\u001b[0m\u001b[0;34m\u001b[0m\u001b[0;34m\u001b[0m\u001b[0m\n\u001b[0m\u001b[1;32m    684\u001b[0m             )\n\u001b[1;32m    685\u001b[0m \u001b[0;34m\u001b[0m\u001b[0m\n",
      "\u001b[0;31mValueError\u001b[0m: Expected n_neighbors <= n_samples,  but n_samples = 2, n_neighbors = 6"
     ]
    }
   ],
   "source": [
    "## SMOTE\n",
    "# sm = SMOTE(random_state = 2)\n",
    "# X_train_SMOTE, y_train_SMOTE = sm.fit_resample(X_train,y_train)\n",
    "\n",
    "oversample = SMOTE()\n",
    "X_train_SMOTE, y_train_SMOTE = oversample.fit_resample(X_train, y_train)\n",
    "\n",
    "# ## SMOTE plot\n",
    "# pd.Series(y_train_SMOTE).value_counts().plot(kind = \"bar\")\n",
    "# plt.title(\"Balanced Dataset\")\n",
    "# plt.show()"
   ]
  },
  {
   "cell_type": "markdown",
   "metadata": {},
   "source": [
    "## Model ANN Building"
   ]
  },
  {
   "cell_type": "markdown",
   "metadata": {},
   "source": [
    "## Training ANN"
   ]
  },
  {
   "cell_type": "markdown",
   "metadata": {},
   "source": [
    "We’ve come to this number of neurons and layers in our network using a trial and error approach. We also used ReLU as our activation function for the hidden layers and a sigmoid function for our output layer. We've used multiple droput layers to prevent our network overfitting.\n"
   ]
  },
  {
   "cell_type": "code",
   "execution_count": 50,
   "metadata": {},
   "outputs": [
    {
     "name": "stdout",
     "output_type": "stream",
     "text": [
      "Model: \"sequential_1\"\n",
      "_________________________________________________________________\n",
      "Layer (type)                 Output Shape              Param #   \n",
      "=================================================================\n",
      "dense_6 (Dense)              (None, 128)               3968      \n",
      "_________________________________________________________________\n",
      "dense_7 (Dense)              (None, 64)                8256      \n",
      "_________________________________________________________________\n",
      "dropout_4 (Dropout)          (None, 64)                0         \n",
      "_________________________________________________________________\n",
      "dense_8 (Dense)              (None, 32)                2080      \n",
      "_________________________________________________________________\n",
      "dropout_5 (Dropout)          (None, 32)                0         \n",
      "_________________________________________________________________\n",
      "dense_9 (Dense)              (None, 32)                1056      \n",
      "_________________________________________________________________\n",
      "dropout_6 (Dropout)          (None, 32)                0         \n",
      "_________________________________________________________________\n",
      "dense_10 (Dense)             (None, 16)                528       \n",
      "_________________________________________________________________\n",
      "dropout_7 (Dropout)          (None, 16)                0         \n",
      "_________________________________________________________________\n",
      "dense_11 (Dense)             (None, 1)                 17        \n",
      "=================================================================\n",
      "Total params: 15,905\n",
      "Trainable params: 15,905\n",
      "Non-trainable params: 0\n",
      "_________________________________________________________________\n"
     ]
    }
   ],
   "source": [
    "## DNN\n",
    "model = keras.Sequential([\n",
    "    tf.keras.layers.Dense(input_dim = 30, units =128, activation =\"relu\"),\n",
    "    tf.keras.layers.Dense(units = 64, activation = \"relu\"),\n",
    "    tf.keras.layers.Dropout(0.2),\n",
    "    tf.keras.layers.Dense(units = 32, activation =\"relu\"),\n",
    "    tf.keras.layers.Dropout(0.2),\n",
    "    tf.keras.layers.Dense(units = 32, activation =\"relu\"),\n",
    "    tf.keras.layers.Dropout(0.2),\n",
    "    tf.keras.layers.Dense(units = 16, activation =\"relu\"),\n",
    "    tf.keras.layers.Dropout(0.2),\n",
    "    tf.keras.layers.Dense(units = 1, activation =\"sigmoid\")])\n",
    "model.summary()  "
   ]
  },
  {
   "cell_type": "markdown",
   "metadata": {},
   "source": [
    "## Model Evaluation"
   ]
  },
  {
   "cell_type": "code",
   "execution_count": 51,
   "metadata": {},
   "outputs": [
    {
     "name": "stdout",
     "output_type": "stream",
     "text": [
      "Epoch 1/50\n",
      "15994/15994 [==============================] - 30s 2ms/step - loss: 0.0189 - Accuracy: 0.2399 - Precision: 0.9939 - Recall: 0.9955: 2s - loss: 0.0198 - Accuracy: 0.24\n",
      "Epoch 2/50\n",
      "15994/15994 [==============================] - 32s 2ms/step - loss: 0.0063 - Accuracy: 0.2453 - Precision: 0.9982 - Recall: 0.9992\n",
      "Epoch 3/50\n",
      "15994/15994 [==============================] - 40s 2ms/step - loss: 0.0051 - Accuracy: 0.2920 - Precision: 0.9987 - Recall: 0.9995\n",
      "Epoch 4/50\n",
      "15994/15994 [==============================] - 32s 2ms/step - loss: 0.0039 - Accuracy: 0.3401 - Precision: 0.9990 - Recall: 0.9996\n",
      "Epoch 5/50\n",
      "15994/15994 [==============================] - 33s 2ms/step - loss: 0.0039 - Accuracy: 0.4160 - Precision: 0.9989 - Recall: 0.9996: 1s - loss: 0.0038 - Accuracy: 0.411\n",
      "Epoch 6/50\n",
      "15994/15994 [==============================] - 32s 2ms/step - loss: 0.0035 - Accuracy: 0.4396 - Precision: 0.9991 - Recall: 0.9997\n",
      "Epoch 7/50\n",
      "15994/15994 [==============================] - 33s 2ms/step - loss: 0.0031 - Accuracy: 0.5067 - Precision: 0.9991 - Recall: 0.9997: 4s - loss: 0.0032 - Acc - ETA: 2s - loss: 0.0031 - Accuracy: 0.50\n",
      "Epoch 8/50\n",
      "15994/15994 [==============================] - 33s 2ms/step - loss: 0.0026 - Accuracy: 0.5673 - Precision: 0.9993 - Recall: 0.9997\n",
      "Epoch 9/50\n",
      "15994/15994 [==============================] - 33s 2ms/step - loss: 0.0026 - Accuracy: 0.5914 - Precision: 0.9993 - Recall: 0.9998\n",
      "Epoch 10/50\n",
      "15994/15994 [==============================] - 33s 2ms/step - loss: 0.0025 - Accuracy: 0.6501 - Precision: 0.9993 - Recall: 0.9998\n",
      "Epoch 11/50\n",
      "15994/15994 [==============================] - 32s 2ms/step - loss: 0.0025 - Accuracy: 0.6268 - Precision: 0.9993 - Recall: 0.9998: 2s - loss: 0.0024 - Accuracy: 0.6\n",
      "Epoch 12/50\n",
      "15994/15994 [==============================] - 32s 2ms/step - loss: 0.0025 - Accuracy: 0.6697 - Precision: 0.9994 - Recall: 0.9998\n",
      "Epoch 13/50\n",
      "15994/15994 [==============================] - 32s 2ms/step - loss: 0.0020 - Accuracy: 0.7008 - Precision: 0.9994 - Recall: 0.9999\n",
      "Epoch 14/50\n",
      "15994/15994 [==============================] - 32s 2ms/step - loss: 0.0022 - Accuracy: 0.7048 - Precision: 0.9994 - Recall: 0.9998\n",
      "Epoch 15/50\n",
      "15994/15994 [==============================] - 33s 2ms/step - loss: 0.0023 - Accuracy: 0.6683 - Precision: 0.9994 - Recall: 0.9998\n",
      "Epoch 16/50\n",
      "15994/15994 [==============================] - 33s 2ms/step - loss: 0.0020 - Accuracy: 0.7180 - Precision: 0.9995 - Recall: 0.9998: 3s - loss: 0.0021 -  - ETA: 0s - loss: 0.0020 - Accuracy: 0.7170 - Precision: 0.9995 - \n",
      "Epoch 17/50\n",
      "15994/15994 [==============================] - 31s 2ms/step - loss: 0.0021 - Accuracy: 0.7356 - Precision: 0.9995 - Recall: 0.9999\n",
      "Epoch 18/50\n",
      "15994/15994 [==============================] - 32s 2ms/step - loss: 0.0026 - Accuracy: 0.7193 - Precision: 0.9995 - Recall: 0.9998: 9s - loss: 0.0023  - ETA: 2s - loss: 0.0027 - A\n",
      "Epoch 19/50\n",
      "15994/15994 [==============================] - 31s 2ms/step - loss: 0.0019 - Accuracy: 0.7493 - Precision: 0.9995 - Recall: 0.9999: 2s - loss: 0.\n",
      "Epoch 20/50\n",
      "15994/15994 [==============================] - 32s 2ms/step - loss: 0.0017 - Accuracy: 0.7935 - Precision: 0.9995 - Recall: 0.9999: 1s - loss: 0.0017 - Accuracy: 0.7941 - Precisi\n",
      "Epoch 21/50\n",
      "15994/15994 [==============================] - 32s 2ms/step - loss: 0.0021 - Accuracy: 0.7461 - Precision: 0.9996 - Recall: 0.9999\n",
      "Epoch 22/50\n",
      "15994/15994 [==============================] - 34s 2ms/step - loss: 0.0018 - Accuracy: 0.7804 - Precision: 0.9995 - Recall: 0.9999: 2s - loss: 0.0018 - Accuracy: 0.7812 - Precision: 0.9995 - Recall:  - ETA: 2s - loss: 0.0018 - Accuracy: 0.7813 - Precision: 0.9995 -  - ETA: 1s - loss: 0.0018 - Accuracy: 0.7804 - Preci\n",
      "Epoch 23/50\n",
      "15994/15994 [==============================] - 33s 2ms/step - loss: 0.0019 - Accuracy: 0.7780 - Precision: 0.9996 - Recall: 0.9999: 0s - loss: 0.0019 - Accuracy: 0.7787 - Precision: 0.9996 - Recall: 0\n",
      "Epoch 24/50\n",
      "15994/15994 [==============================] - 31s 2ms/step - loss: 0.0018 - Accuracy: 0.7972 - Precision: 0.9995 - Recall: 0.9998\n",
      "Epoch 25/50\n",
      "15994/15994 [==============================] - 1209s 76ms/step - loss: 0.0017 - Accuracy: 0.7806 - Precision: 0.9996 - Recall: 0.9998\n",
      "Epoch 26/50\n",
      "15994/15994 [==============================] - 41s 3ms/step - loss: 0.0017 - Accuracy: 0.8101 - Precision: 0.9996 - Recall: 0.9999\n",
      "Epoch 27/50\n",
      "15994/15994 [==============================] - 32s 2ms/step - loss: 0.0018 - Accuracy: 0.8328 - Precision: 0.9996 - Recall: 0.9998\n",
      "Epoch 28/50\n",
      "15994/15994 [==============================] - 30s 2ms/step - loss: 0.0020 - Accuracy: 0.8402 - Precision: 0.9996 - Recall: 0.9999\n",
      "Epoch 29/50\n",
      "15994/15994 [==============================] - 32s 2ms/step - loss: 0.0019 - Accuracy: 0.8323 - Precision: 0.9995 - Recall: 0.9999\n",
      "Epoch 30/50\n",
      "15994/15994 [==============================] - 32s 2ms/step - loss: 0.0018 - Accuracy: 0.8069 - Precision: 0.9996 - Recall: 0.9998: 3s - loss: 0.0017 - Accuracy: 0.8020 - Precision: 0.9996 - ETA: 2s - loss: 0.0017 - Accura\n",
      "Epoch 31/50\n",
      "15994/15994 [==============================] - 32s 2ms/step - loss: 0.0014 - Accuracy: 0.8479 - Precision: 0.9996 - Recall: 0.9998: 5s - loss:  - ETA: 2s - loss: 0.0014 - A\n",
      "Epoch 32/50\n",
      "15994/15994 [==============================] - 33s 2ms/step - loss: 0.0013 - Accuracy: 0.8601 - Precision: 0.9996 - Recall: 0.9999\n",
      "Epoch 33/50\n",
      "15994/15994 [==============================] - 33s 2ms/step - loss: 0.0021 - Accuracy: 0.8256 - Precision: 0.9996 - Recall: 0.9999\n",
      "Epoch 34/50\n",
      "15994/15994 [==============================] - 34s 2ms/step - loss: 0.0017 - Accuracy: 0.8307 - Precision: 0.9996 - Recall: 0.9999\n",
      "Epoch 35/50\n",
      "15994/15994 [==============================] - 34s 2ms/step - loss: 0.0019 - Accuracy: 0.8177 - Precision: 0.9996 - Recall: 0.9999\n",
      "Epoch 36/50\n",
      "15994/15994 [==============================] - 34s 2ms/step - loss: 0.0017 - Accuracy: 0.8745 - Precision: 0.9996 - Recall: 0.9998: 2s - loss: 0.0017 - Accura\n",
      "Epoch 37/50\n",
      "15994/15994 [==============================] - 34s 2ms/step - loss: 0.0017 - Accuracy: 0.8608 - Precision: 0.9996 - Recall: 0.9999\n",
      "Epoch 38/50\n",
      "15994/15994 [==============================] - 33s 2ms/step - loss: 0.0021 - Accuracy: 0.8557 - Precision: 0.9996 - Recall: 0.9998: 10s - loss: 0.0022 - Accuracy: 0.8632 - Precision: 0.999 - ETA: 9s - loss: 0.0022 - Accuracy: 0.8619 - Precis - ETA: 0s - loss: 0.0021 - Accuracy: 0.8568 - Precision: 0.9996 - Recall: \n",
      "Epoch 39/50\n",
      "15994/15994 [==============================] - 34s 2ms/step - loss: 0.0021 - Accuracy: 0.8203 - Precision: 0.9996 - Recall: 0.9999\n",
      "Epoch 40/50\n",
      "15994/15994 [==============================] - 33s 2ms/step - loss: 0.0017 - Accuracy: 0.8396 - Precision: 0.9996 - Recall: 0.9999\n",
      "Epoch 41/50\n",
      "15994/15994 [==============================] - 34s 2ms/step - loss: 0.0020 - Accuracy: 0.8330 - Precision: 0.9996 - Recall: 0.9999\n",
      "Epoch 42/50\n",
      "15994/15994 [==============================] - 33s 2ms/step - loss: 0.0013 - Accuracy: 0.8842 - Precision: 0.9997 - Recall: 0.9999\n",
      "Epoch 43/50\n",
      "15994/15994 [==============================] - 34s 2ms/step - loss: 0.0022 - Accuracy: 0.8437 - Precision: 0.9995 - Recall: 0.9998\n",
      "Epoch 44/50\n",
      "15994/15994 [==============================] - 35s 2ms/step - loss: 0.0016 - Accuracy: 0.8829 - Precision: 0.9997 - Recall: 0.9999: 1s - loss: 0.0016 - Accuracy: 0.8833 - Precisi\n",
      "Epoch 45/50\n",
      "15994/15994 [==============================] - 34s 2ms/step - loss: 0.0015 - Accuracy: 0.9082 - Precision: 0.9997 - Recall: 0.9999: 4s - loss: 0.0014 - Accuracy: 0.9077 - Precision: 0.9997 - Recall: 0. -\n",
      "Epoch 46/50\n",
      "15994/15994 [==============================] - 34s 2ms/step - loss: 0.0015 - Accuracy: 0.9013 - Precision: 0.9997 - Recall: 0.9999\n",
      "Epoch 47/50\n",
      "15994/15994 [==============================] - 34s 2ms/step - loss: 0.0018 - Accuracy: 0.8983 - Precision: 0.9997 - Recall: 0.9999\n",
      "Epoch 48/50\n",
      "15994/15994 [==============================] - 34s 2ms/step - loss: 0.0017 - Accuracy: 0.8513 - Precision: 0.9996 - Recall: 0.9999\n",
      "Epoch 49/50\n",
      "15994/15994 [==============================] - 33s 2ms/step - loss: 0.0017 - Accuracy: 0.9080 - Precision: 0.9997 - Recall: 0.9999\n",
      "Epoch 50/50\n",
      "15994/15994 [==============================] - 29s 2ms/step - loss: 0.0019 - Accuracy: 0.9029 - Precision: 0.9997 - Recall: 0.9999: 1s - loss: 0.0019 - Accuracy: 0.900\n",
      "Evaluate on test data\n",
      "891/891 [==============================] - 1s 1ms/step - loss: 0.0563 - Accuracy: 0.9699 - Precision: 0.7759 - Recall: 0.8182\n",
      "test loss, test accuracy, test precision, test recall: [0.05626910924911499, 0.9699097871780396, 0.7758620977401733, 0.8181818127632141]\n"
     ]
    }
   ],
   "source": [
    "## Metrics\n",
    "metrics = [\n",
    "    tf.keras.metrics.Accuracy(name = \"Accuracy\"),\n",
    "    tf.keras.metrics.Precision(name = \"Precision\"),\n",
    "    tf.keras.metrics.Recall(name =\"Recall\")]\n",
    "\n",
    "## Compiling and Fiting the model\n",
    "model.compile(optimizer =\"adam\",loss = \"binary_crossentropy\",\n",
    "             metrics = metrics)\n",
    "model.fit(X_train_SMOTE, y_train_SMOTE, batch_size = 32, epochs = 50)\n",
    "\n",
    "print(\"Evaluate on test data\")\n",
    "score = model.evaluate(X_test, y_test)\n",
    "print(\"test loss, test accuracy, test precision, test recall:\", score)"
   ]
  },
  {
   "cell_type": "markdown",
   "metadata": {},
   "source": [
    "We used ‘adam’ as our optimizer as it’s computationally efficient and is well suited for problems with a high number of parameters and ‘binary_crossentropy’ as our loss function as it’s most appropriate for our binary classification problem. For our evaluation, we’ll not only focus on accuracy as a metric but we’ll assess precision and recall too. Now let’s have a look at how the last 10 epochs went and how well our model performed on our test data."
   ]
  },
  {
   "cell_type": "code",
   "execution_count": null,
   "metadata": {},
   "outputs": [],
   "source": []
  }
 ],
 "metadata": {
  "kernelspec": {
   "display_name": "Python 3",
   "language": "python",
   "name": "python3"
  },
  "language_info": {
   "codemirror_mode": {
    "name": "ipython",
    "version": 3
   },
   "file_extension": ".py",
   "mimetype": "text/x-python",
   "name": "python",
   "nbconvert_exporter": "python",
   "pygments_lexer": "ipython3",
   "version": "3.7.4"
  }
 },
 "nbformat": 4,
 "nbformat_minor": 2
}
